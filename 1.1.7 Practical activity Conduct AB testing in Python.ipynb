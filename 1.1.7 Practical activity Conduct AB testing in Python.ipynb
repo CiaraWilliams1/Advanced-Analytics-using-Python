{
 "cells": [
  {
   "cell_type": "code",
   "execution_count": 1,
   "id": "df510991",
   "metadata": {},
   "outputs": [],
   "source": [
    "# Import necessary libraries, packages and classes.\n",
    "import pandas as pd\n",
    "import math\n",
    "import numpy as np\n",
    "import statsmodels.stats.api as sms\n",
    "import scipy.stats as st\n",
    "import matplotlib as mpl\n",
    "import matplotlib.pyplot as plt"
   ]
  },
  {
   "cell_type": "code",
   "execution_count": 2,
   "id": "c7a26837",
   "metadata": {},
   "outputs": [
    {
     "name": "stdout",
     "output_type": "stream",
     "text": [
      "Sample Size: 1565.490\n"
     ]
    }
   ],
   "source": [
    "# Import statsmodel for statistical calculations and \n",
    "# TTestIndPower class to calculate the parameters.\n",
    "import statsmodels.stats.api as sms\n",
    "from statsmodels.stats.power import TTestIndPower\n",
    "\n",
    "# Specify the three required parameters for the power analysis:\n",
    "alpha = 0.05 \n",
    "power = 0.80 \n",
    "effect = sms.proportion_effectsize(0.50, 0.55) \n",
    "\n",
    "# Perform power analysis by using the solve_power() function:\n",
    "# Specify an instance of TTestIndPower.\n",
    "analysis = TTestIndPower() \n",
    "\n",
    "# Calculate the sample size and list the parameters.\n",
    "result = analysis.solve_power(effect, power=power, nobs1=None,\n",
    "                              ratio=1.0, alpha=alpha) \n",
    "\n",
    "# Print the output.\n",
    "print('Sample Size: %.3f' % result)"
   ]
  },
  {
   "cell_type": "code",
   "execution_count": 3,
   "id": "9442babb",
   "metadata": {},
   "outputs": [
    {
     "data": {
      "text/html": [
       "<div>\n",
       "<style scoped>\n",
       "    .dataframe tbody tr th:only-of-type {\n",
       "        vertical-align: middle;\n",
       "    }\n",
       "\n",
       "    .dataframe tbody tr th {\n",
       "        vertical-align: top;\n",
       "    }\n",
       "\n",
       "    .dataframe thead th {\n",
       "        text-align: right;\n",
       "    }\n",
       "</style>\n",
       "<table border=\"1\" class=\"dataframe\">\n",
       "  <thead>\n",
       "    <tr style=\"text-align: right;\">\n",
       "      <th></th>\n",
       "      <th>RecordID</th>\n",
       "      <th>IP Address</th>\n",
       "      <th>LoggedInFlag</th>\n",
       "      <th>ServerID</th>\n",
       "      <th>VisitPageFlag</th>\n",
       "    </tr>\n",
       "  </thead>\n",
       "  <tbody>\n",
       "    <tr>\n",
       "      <th>0</th>\n",
       "      <td>1</td>\n",
       "      <td>39.13.114.2</td>\n",
       "      <td>1</td>\n",
       "      <td>2</td>\n",
       "      <td>0</td>\n",
       "    </tr>\n",
       "    <tr>\n",
       "      <th>1</th>\n",
       "      <td>2</td>\n",
       "      <td>13.3.25.8</td>\n",
       "      <td>1</td>\n",
       "      <td>1</td>\n",
       "      <td>0</td>\n",
       "    </tr>\n",
       "    <tr>\n",
       "      <th>2</th>\n",
       "      <td>3</td>\n",
       "      <td>247.8.211.8</td>\n",
       "      <td>1</td>\n",
       "      <td>1</td>\n",
       "      <td>0</td>\n",
       "    </tr>\n",
       "    <tr>\n",
       "      <th>3</th>\n",
       "      <td>4</td>\n",
       "      <td>124.8.220.3</td>\n",
       "      <td>0</td>\n",
       "      <td>3</td>\n",
       "      <td>0</td>\n",
       "    </tr>\n",
       "    <tr>\n",
       "      <th>4</th>\n",
       "      <td>5</td>\n",
       "      <td>60.10.192.7</td>\n",
       "      <td>0</td>\n",
       "      <td>2</td>\n",
       "      <td>0</td>\n",
       "    </tr>\n",
       "  </tbody>\n",
       "</table>\n",
       "</div>"
      ],
      "text/plain": [
       "   RecordID   IP Address  LoggedInFlag  ServerID  VisitPageFlag\n",
       "0         1  39.13.114.2             1         2              0\n",
       "1         2    13.3.25.8             1         1              0\n",
       "2         3  247.8.211.8             1         1              0\n",
       "3         4  124.8.220.3             0         3              0\n",
       "4         5  60.10.192.7             0         2              0"
      ]
     },
     "execution_count": 3,
     "metadata": {},
     "output_type": "execute_result"
    }
   ],
   "source": [
    "# Read the CSV file (ab_data.csv).\n",
    "df = pd.read_csv('bike_shop.csv')\n",
    "\n",
    "# View the DataFrame.\n",
    "df.head()"
   ]
  },
  {
   "cell_type": "code",
   "execution_count": 5,
   "id": "e9d07b71",
   "metadata": {},
   "outputs": [
    {
     "data": {
      "text/plain": [
       "(184588, 5)"
      ]
     },
     "execution_count": 5,
     "metadata": {},
     "output_type": "execute_result"
    }
   ],
   "source": [
    "df.shape"
   ]
  },
  {
   "cell_type": "code",
   "execution_count": 6,
   "id": "3f93b6cb",
   "metadata": {},
   "outputs": [
    {
     "name": "stdout",
     "output_type": "stream",
     "text": [
      "<class 'pandas.core.frame.DataFrame'>\n",
      "RangeIndex: 184588 entries, 0 to 184587\n",
      "Data columns (total 5 columns):\n",
      " #   Column         Non-Null Count   Dtype \n",
      "---  ------         --------------   ----- \n",
      " 0   RecordID       184588 non-null  int64 \n",
      " 1   IP Address     184588 non-null  object\n",
      " 2   LoggedInFlag   184588 non-null  int64 \n",
      " 3   ServerID       184588 non-null  int64 \n",
      " 4   VisitPageFlag  184588 non-null  int64 \n",
      "dtypes: int64(4), object(1)\n",
      "memory usage: 7.0+ MB\n"
     ]
    }
   ],
   "source": [
    "df.info()"
   ]
  },
  {
   "cell_type": "code",
   "execution_count": 9,
   "id": "6beb6000",
   "metadata": {},
   "outputs": [
    {
     "data": {
      "text/html": [
       "<div>\n",
       "<style scoped>\n",
       "    .dataframe tbody tr th:only-of-type {\n",
       "        vertical-align: middle;\n",
       "    }\n",
       "\n",
       "    .dataframe tbody tr th {\n",
       "        vertical-align: top;\n",
       "    }\n",
       "\n",
       "    .dataframe thead th {\n",
       "        text-align: right;\n",
       "    }\n",
       "</style>\n",
       "<table border=\"1\" class=\"dataframe\">\n",
       "  <thead>\n",
       "    <tr style=\"text-align: right;\">\n",
       "      <th></th>\n",
       "      <th>RecordID</th>\n",
       "      <th>IPAddress</th>\n",
       "      <th>LoyaltyPage</th>\n",
       "      <th>ServerID</th>\n",
       "      <th>VisitPageFlag</th>\n",
       "    </tr>\n",
       "  </thead>\n",
       "  <tbody>\n",
       "    <tr>\n",
       "      <th>0</th>\n",
       "      <td>1</td>\n",
       "      <td>39.13.114.2</td>\n",
       "      <td>1</td>\n",
       "      <td>2</td>\n",
       "      <td>0</td>\n",
       "    </tr>\n",
       "    <tr>\n",
       "      <th>1</th>\n",
       "      <td>2</td>\n",
       "      <td>13.3.25.8</td>\n",
       "      <td>1</td>\n",
       "      <td>1</td>\n",
       "      <td>0</td>\n",
       "    </tr>\n",
       "    <tr>\n",
       "      <th>2</th>\n",
       "      <td>3</td>\n",
       "      <td>247.8.211.8</td>\n",
       "      <td>1</td>\n",
       "      <td>1</td>\n",
       "      <td>0</td>\n",
       "    </tr>\n",
       "    <tr>\n",
       "      <th>3</th>\n",
       "      <td>4</td>\n",
       "      <td>124.8.220.3</td>\n",
       "      <td>0</td>\n",
       "      <td>3</td>\n",
       "      <td>0</td>\n",
       "    </tr>\n",
       "    <tr>\n",
       "      <th>4</th>\n",
       "      <td>5</td>\n",
       "      <td>60.10.192.7</td>\n",
       "      <td>0</td>\n",
       "      <td>2</td>\n",
       "      <td>0</td>\n",
       "    </tr>\n",
       "  </tbody>\n",
       "</table>\n",
       "</div>"
      ],
      "text/plain": [
       "   RecordID    IPAddress  LoyaltyPage  ServerID  VisitPageFlag\n",
       "0         1  39.13.114.2            1         2              0\n",
       "1         2    13.3.25.8            1         1              0\n",
       "2         3  247.8.211.8            1         1              0\n",
       "3         4  124.8.220.3            0         3              0\n",
       "4         5  60.10.192.7            0         2              0"
      ]
     },
     "execution_count": 9,
     "metadata": {},
     "output_type": "execute_result"
    }
   ],
   "source": [
    "# renaming columns\n",
    "df_new = df.rename({'IP Address': 'IPAddress', 'LoggedInFlag': 'LoyaltyPage'}, axis=1)\n",
    "df_new.head()"
   ]
  },
  {
   "cell_type": "code",
   "execution_count": 11,
   "id": "acf7a67a",
   "metadata": {},
   "outputs": [
    {
     "name": "stdout",
     "output_type": "stream",
     "text": [
      "        RecordID     IPAddress  LoyaltyPage  ServerID  VisitPageFlag\n",
      "275          276    191.4.97.7            0         2              0\n",
      "394          395     79.9.70.7            1         3              0\n",
      "703          704    175.1.81.8            1         3              0\n",
      "809          810    125.0.30.9            1         2              0\n",
      "889          890  207.14.157.6            1         3              0\n",
      "...          ...           ...          ...       ...            ...\n",
      "184582    184583    90.4.224.4            0         3              0\n",
      "184583    184584   114.8.104.1            0         1              0\n",
      "184585    184586   170.13.31.9            0         2              0\n",
      "184586    184587   195.14.92.3            0         3              0\n",
      "184587    184588  172.12.115.8            0         2              1\n",
      "\n",
      "[85072 rows x 5 columns]\n"
     ]
    }
   ],
   "source": [
    "# printing duplicate IP addresses\n",
    "print(df_new[df_new.IPAddress.duplicated()])"
   ]
  },
  {
   "cell_type": "code",
   "execution_count": 12,
   "id": "b19b45b3",
   "metadata": {},
   "outputs": [
    {
     "name": "stdout",
     "output_type": "stream",
     "text": [
      "(39608, 3)\n",
      "       IPAddress  LoyaltyPage  ServerID\n",
      "7     97.6.126.6            0         3\n",
      "12   188.13.62.2            0         3\n",
      "14   234.1.239.1            0         2\n",
      "15  167.15.157.7            0         2\n",
      "16  123.12.229.8            0         1\n",
      "<class 'pandas.core.frame.DataFrame'>\n",
      "Int64Index: 39608 entries, 7 to 184584\n",
      "Data columns (total 3 columns):\n",
      " #   Column       Non-Null Count  Dtype \n",
      "---  ------       --------------  ----- \n",
      " 0   IPAddress    39608 non-null  object\n",
      " 1   LoyaltyPage  39608 non-null  int64 \n",
      " 2   ServerID     39608 non-null  int64 \n",
      "dtypes: int64(2), object(1)\n",
      "memory usage: 1.2+ MB\n"
     ]
    }
   ],
   "source": [
    "# Drop duplicate values.\n",
    "df_new.drop_duplicates(subset ='IPAddress',\n",
    "                       keep = False,\n",
    "                       inplace = True)\n",
    "\n",
    "\n",
    "# Drop duplicate columns.\n",
    "df_final = df_new.drop(['RecordID', 'VisitPageFlag'],\n",
    "                       axis=1)\n",
    "\n",
    "\n",
    "# View the DataFrame.\n",
    "print(df_final.shape)\n",
    "print(df_final.head())\n",
    "df_final.info()"
   ]
  },
  {
   "cell_type": "code",
   "execution_count": 13,
   "id": "607f9e59",
   "metadata": {},
   "outputs": [
    {
     "name": "stdout",
     "output_type": "stream",
     "text": [
      "(39608, 4)\n"
     ]
    },
    {
     "data": {
      "text/html": [
       "<div>\n",
       "<style scoped>\n",
       "    .dataframe tbody tr th:only-of-type {\n",
       "        vertical-align: middle;\n",
       "    }\n",
       "\n",
       "    .dataframe tbody tr th {\n",
       "        vertical-align: top;\n",
       "    }\n",
       "\n",
       "    .dataframe thead th {\n",
       "        text-align: right;\n",
       "    }\n",
       "</style>\n",
       "<table border=\"1\" class=\"dataframe\">\n",
       "  <thead>\n",
       "    <tr style=\"text-align: right;\">\n",
       "      <th></th>\n",
       "      <th>IPAddress</th>\n",
       "      <th>LoyaltyPage</th>\n",
       "      <th>ServerID</th>\n",
       "      <th>Group</th>\n",
       "    </tr>\n",
       "  </thead>\n",
       "  <tbody>\n",
       "    <tr>\n",
       "      <th>7</th>\n",
       "      <td>97.6.126.6</td>\n",
       "      <td>0</td>\n",
       "      <td>3</td>\n",
       "      <td>Control</td>\n",
       "    </tr>\n",
       "    <tr>\n",
       "      <th>12</th>\n",
       "      <td>188.13.62.2</td>\n",
       "      <td>0</td>\n",
       "      <td>3</td>\n",
       "      <td>Control</td>\n",
       "    </tr>\n",
       "    <tr>\n",
       "      <th>14</th>\n",
       "      <td>234.1.239.1</td>\n",
       "      <td>0</td>\n",
       "      <td>2</td>\n",
       "      <td>Control</td>\n",
       "    </tr>\n",
       "    <tr>\n",
       "      <th>15</th>\n",
       "      <td>167.15.157.7</td>\n",
       "      <td>0</td>\n",
       "      <td>2</td>\n",
       "      <td>Control</td>\n",
       "    </tr>\n",
       "    <tr>\n",
       "      <th>16</th>\n",
       "      <td>123.12.229.8</td>\n",
       "      <td>0</td>\n",
       "      <td>1</td>\n",
       "      <td>Treatment</td>\n",
       "    </tr>\n",
       "  </tbody>\n",
       "</table>\n",
       "</div>"
      ],
      "text/plain": [
       "       IPAddress  LoyaltyPage  ServerID      Group\n",
       "7     97.6.126.6            0         3    Control\n",
       "12   188.13.62.2            0         3    Control\n",
       "14   234.1.239.1            0         2    Control\n",
       "15  167.15.157.7            0         2    Control\n",
       "16  123.12.229.8            0         1  Treatment"
      ]
     },
     "execution_count": 13,
     "metadata": {},
     "output_type": "execute_result"
    }
   ],
   "source": [
    "# Split the data set into ID1 as treatment and ID2 & ID3 as control groups.\n",
    "df_final['Group'] = df_final['ServerID'].map({1:'Treatment',\n",
    "                                              2:'Control',\n",
    "                                              3:'Control'})\n",
    "\n",
    "# View the DataFrame.\n",
    "print(df_final.shape)\n",
    "df_final.head()"
   ]
  },
  {
   "cell_type": "code",
   "execution_count": 15,
   "id": "cae18db8",
   "metadata": {},
   "outputs": [
    {
     "data": {
      "text/plain": [
       "Control      26310\n",
       "Treatment    13298\n",
       "Name: Group, dtype: int64"
      ]
     },
     "execution_count": 15,
     "metadata": {},
     "output_type": "execute_result"
    }
   ],
   "source": [
    "df_final['Group'].value_counts()"
   ]
  },
  {
   "cell_type": "code",
   "execution_count": 19,
   "id": "bd58f987",
   "metadata": {},
   "outputs": [],
   "source": [
    "# Obtain a simple random sample for control and treatment groups; \n",
    "# set random_stategenerator seed at an arbitrary value of 22.\n",
    "# Obtain a simple random sample for the control group.\n",
    "control_sample = df_final[df_final['Group'] == 'Control'].sample(n=1566, \n",
    "                                                       random_state=42) \n",
    "\n",
    "# Obtain a simple random sample for the treatment group.\n",
    "treatment_sample = df_final[df_final['Group'] == 'Treatment'].sample(n=1566,\n",
    "                                                           random_state=42)"
   ]
  },
  {
   "cell_type": "code",
   "execution_count": 20,
   "id": "640fbbd6",
   "metadata": {},
   "outputs": [
    {
     "data": {
      "text/html": [
       "<div>\n",
       "<style scoped>\n",
       "    .dataframe tbody tr th:only-of-type {\n",
       "        vertical-align: middle;\n",
       "    }\n",
       "\n",
       "    .dataframe tbody tr th {\n",
       "        vertical-align: top;\n",
       "    }\n",
       "\n",
       "    .dataframe thead th {\n",
       "        text-align: right;\n",
       "    }\n",
       "</style>\n",
       "<table border=\"1\" class=\"dataframe\">\n",
       "  <thead>\n",
       "    <tr style=\"text-align: right;\">\n",
       "      <th></th>\n",
       "      <th>IPAddress</th>\n",
       "      <th>LoyaltyPage</th>\n",
       "      <th>ServerID</th>\n",
       "      <th>Group</th>\n",
       "    </tr>\n",
       "  </thead>\n",
       "  <tbody>\n",
       "    <tr>\n",
       "      <th>0</th>\n",
       "      <td>25.16.126.2</td>\n",
       "      <td>1</td>\n",
       "      <td>3</td>\n",
       "      <td>Control</td>\n",
       "    </tr>\n",
       "    <tr>\n",
       "      <th>1</th>\n",
       "      <td>106.13.67.3</td>\n",
       "      <td>1</td>\n",
       "      <td>3</td>\n",
       "      <td>Control</td>\n",
       "    </tr>\n",
       "    <tr>\n",
       "      <th>2</th>\n",
       "      <td>169.11.137.7</td>\n",
       "      <td>0</td>\n",
       "      <td>2</td>\n",
       "      <td>Control</td>\n",
       "    </tr>\n",
       "    <tr>\n",
       "      <th>3</th>\n",
       "      <td>164.9.86.8</td>\n",
       "      <td>1</td>\n",
       "      <td>2</td>\n",
       "      <td>Control</td>\n",
       "    </tr>\n",
       "    <tr>\n",
       "      <th>4</th>\n",
       "      <td>112.12.25.7</td>\n",
       "      <td>0</td>\n",
       "      <td>2</td>\n",
       "      <td>Control</td>\n",
       "    </tr>\n",
       "    <tr>\n",
       "      <th>...</th>\n",
       "      <td>...</td>\n",
       "      <td>...</td>\n",
       "      <td>...</td>\n",
       "      <td>...</td>\n",
       "    </tr>\n",
       "    <tr>\n",
       "      <th>3127</th>\n",
       "      <td>187.4.117.9</td>\n",
       "      <td>1</td>\n",
       "      <td>1</td>\n",
       "      <td>Treatment</td>\n",
       "    </tr>\n",
       "    <tr>\n",
       "      <th>3128</th>\n",
       "      <td>134.0.112.5</td>\n",
       "      <td>1</td>\n",
       "      <td>1</td>\n",
       "      <td>Treatment</td>\n",
       "    </tr>\n",
       "    <tr>\n",
       "      <th>3129</th>\n",
       "      <td>7.3.242.7</td>\n",
       "      <td>0</td>\n",
       "      <td>1</td>\n",
       "      <td>Treatment</td>\n",
       "    </tr>\n",
       "    <tr>\n",
       "      <th>3130</th>\n",
       "      <td>118.14.226.4</td>\n",
       "      <td>0</td>\n",
       "      <td>1</td>\n",
       "      <td>Treatment</td>\n",
       "    </tr>\n",
       "    <tr>\n",
       "      <th>3131</th>\n",
       "      <td>49.15.75.8</td>\n",
       "      <td>1</td>\n",
       "      <td>1</td>\n",
       "      <td>Treatment</td>\n",
       "    </tr>\n",
       "  </tbody>\n",
       "</table>\n",
       "<p>3132 rows × 4 columns</p>\n",
       "</div>"
      ],
      "text/plain": [
       "         IPAddress  LoyaltyPage  ServerID      Group\n",
       "0      25.16.126.2            1         3    Control\n",
       "1      106.13.67.3            1         3    Control\n",
       "2     169.11.137.7            0         2    Control\n",
       "3       164.9.86.8            1         2    Control\n",
       "4      112.12.25.7            0         2    Control\n",
       "...            ...          ...       ...        ...\n",
       "3127   187.4.117.9            1         1  Treatment\n",
       "3128   134.0.112.5            1         1  Treatment\n",
       "3129     7.3.242.7            0         1  Treatment\n",
       "3130  118.14.226.4            0         1  Treatment\n",
       "3131    49.15.75.8            1         1  Treatment\n",
       "\n",
       "[3132 rows x 4 columns]"
      ]
     },
     "execution_count": 20,
     "metadata": {},
     "output_type": "execute_result"
    }
   ],
   "source": [
    "# Join the two samples.  \n",
    "ab_test = pd.concat([control_sample, treatment_sample], axis=0)  \n",
    "\n",
    "# Reset the A/B index.\n",
    "ab_test.reset_index(drop=True, inplace=True) \n",
    "\n",
    "# Print the sample table.\n",
    "ab_test  "
   ]
  },
  {
   "cell_type": "code",
   "execution_count": 21,
   "id": "f8c7521d",
   "metadata": {},
   "outputs": [
    {
     "data": {
      "text/html": [
       "<style type=\"text/css\">\n",
       "</style>\n",
       "<table id=\"T_1bd20\">\n",
       "  <thead>\n",
       "    <tr>\n",
       "      <th class=\"blank level0\" >&nbsp;</th>\n",
       "      <th id=\"T_1bd20_level0_col0\" class=\"col_heading level0 col0\" >conversion_rate</th>\n",
       "      <th id=\"T_1bd20_level0_col1\" class=\"col_heading level0 col1\" >std_deviation</th>\n",
       "      <th id=\"T_1bd20_level0_col2\" class=\"col_heading level0 col2\" >std_error</th>\n",
       "    </tr>\n",
       "    <tr>\n",
       "      <th class=\"index_name level0\" >Group</th>\n",
       "      <th class=\"blank col0\" >&nbsp;</th>\n",
       "      <th class=\"blank col1\" >&nbsp;</th>\n",
       "      <th class=\"blank col2\" >&nbsp;</th>\n",
       "    </tr>\n",
       "  </thead>\n",
       "  <tbody>\n",
       "    <tr>\n",
       "      <th id=\"T_1bd20_level0_row0\" class=\"row_heading level0 row0\" >Control</th>\n",
       "      <td id=\"T_1bd20_row0_col0\" class=\"data row0 col0\" >0.532</td>\n",
       "      <td id=\"T_1bd20_row0_col1\" class=\"data row0 col1\" >0.499</td>\n",
       "      <td id=\"T_1bd20_row0_col2\" class=\"data row0 col2\" >0.013</td>\n",
       "    </tr>\n",
       "    <tr>\n",
       "      <th id=\"T_1bd20_level0_row1\" class=\"row_heading level0 row1\" >Treatment</th>\n",
       "      <td id=\"T_1bd20_row1_col0\" class=\"data row1 col0\" >0.483</td>\n",
       "      <td id=\"T_1bd20_row1_col1\" class=\"data row1 col1\" >0.500</td>\n",
       "      <td id=\"T_1bd20_row1_col2\" class=\"data row1 col2\" >0.013</td>\n",
       "    </tr>\n",
       "  </tbody>\n",
       "</table>\n"
      ],
      "text/plain": [
       "<pandas.io.formats.style.Styler at 0x1fda3774520>"
      ]
     },
     "execution_count": 21,
     "metadata": {},
     "output_type": "execute_result"
    }
   ],
   "source": [
    "# Calculate basic statistics.\n",
    "# Import library.\n",
    "# SEM stands for standard error mean.\n",
    "from scipy.stats import sem\n",
    "\n",
    "# Group the ab_test data set by group and aggregate by converted.\n",
    "conversion_rates = ab_test.groupby('Group')['LoyaltyPage']\n",
    "\n",
    "# Calculate conversion rates by calculating the means of columns STD_p and SE_p.\n",
    "conversion_rates = conversion_rates.agg([np.mean, np.std,sem])\n",
    "\n",
    "# Assign names to the three columns.\n",
    "conversion_rates.columns = ['conversion_rate',\n",
    "                            'std_deviation',\n",
    "                            'std_error']  \n",
    "\n",
    "# Round the output to 3 decimal places.\n",
    "conversion_rates.style.format('{:.3f}')"
   ]
  },
  {
   "cell_type": "code",
   "execution_count": 22,
   "id": "ed9ac884",
   "metadata": {},
   "outputs": [
    {
     "data": {
      "text/html": [
       "<div>\n",
       "<style scoped>\n",
       "    .dataframe tbody tr th:only-of-type {\n",
       "        vertical-align: middle;\n",
       "    }\n",
       "\n",
       "    .dataframe tbody tr th {\n",
       "        vertical-align: top;\n",
       "    }\n",
       "\n",
       "    .dataframe thead th {\n",
       "        text-align: right;\n",
       "    }\n",
       "</style>\n",
       "<table border=\"1\" class=\"dataframe\">\n",
       "  <thead>\n",
       "    <tr style=\"text-align: right;\">\n",
       "      <th></th>\n",
       "      <th>conversion_rate</th>\n",
       "      <th>std_deviation</th>\n",
       "      <th>std_error</th>\n",
       "    </tr>\n",
       "    <tr>\n",
       "      <th>Group</th>\n",
       "      <th></th>\n",
       "      <th></th>\n",
       "      <th></th>\n",
       "    </tr>\n",
       "  </thead>\n",
       "  <tbody>\n",
       "    <tr>\n",
       "      <th>Control</th>\n",
       "      <td>0.531928</td>\n",
       "      <td>0.498980</td>\n",
       "      <td>0.012609</td>\n",
       "    </tr>\n",
       "    <tr>\n",
       "      <th>Treatment</th>\n",
       "      <td>0.483397</td>\n",
       "      <td>0.499724</td>\n",
       "      <td>0.012628</td>\n",
       "    </tr>\n",
       "  </tbody>\n",
       "</table>\n",
       "</div>"
      ],
      "text/plain": [
       "           conversion_rate  std_deviation  std_error\n",
       "Group                                               \n",
       "Control           0.531928       0.498980   0.012609\n",
       "Treatment         0.483397       0.499724   0.012628"
      ]
     },
     "execution_count": 22,
     "metadata": {},
     "output_type": "execute_result"
    }
   ],
   "source": [
    "# Calculate the conversion rates.\n",
    "conversion_rates2 = ab_test.groupby('Group')['LoyaltyPage']\n",
    "\n",
    "\n",
    "# Standard deviation of the proportion.\n",
    "STD_p = lambda x: np.std(x, ddof=0)    \n",
    "# Standard error of the proportion.\n",
    "SE_p = lambda x: st.sem(x, ddof=0)     \n",
    "\n",
    "conversion_rates2 = conversion_rates2.agg([np.mean, STD_p, SE_p])\n",
    "\n",
    "conversion_rates2.columns = ['conversion_rate',\n",
    "                            'std_deviation',\n",
    "                            'std_error']\n",
    "\n",
    "# Convert output into a Pandas DataFrame.\n",
    "cr = pd.DataFrame(conversion_rates2)\n",
    "\n",
    "# View output.\n",
    "cr"
   ]
  },
  {
   "cell_type": "code",
   "execution_count": 24,
   "id": "b3b54691",
   "metadata": {},
   "outputs": [
    {
     "name": "stdout",
     "output_type": "stream",
     "text": [
      "Z test stat: 2.716\n",
      "P-value: 0.007\n",
      "Confidence Interval of 95% for control group: [0.507, 0.557]\n",
      "Confidence Interval of 95% for treatment group: [0.459, 0.508]\n"
     ]
    }
   ],
   "source": [
    "# Calculate statistical significance.\n",
    "# Import proportions_ztest and proportion_confint from statsmodels.\n",
    "from statsmodels.stats.proportion import proportions_ztest, proportion_confint\n",
    "\n",
    "# Create a subset of control and treatment results.\n",
    "control_results = ab_test[ab_test['Group'] == 'Control']['LoyaltyPage']\n",
    "treatment_results = ab_test[ab_test['Group'] == 'Treatment']['LoyaltyPage']\n",
    "\n",
    "# Determine the count of the control_results and \n",
    "# treatment_result sub-data sets and store them in their respective variables.\n",
    "n_con = control_results.count()\n",
    "n_treat = treatment_results.count()\n",
    "\n",
    "# Create a variable 'success' with the sum of the two data sets in a list format. \n",
    "successes = [control_results.sum(), treatment_results.sum()]\n",
    "\n",
    "# Create a variable 'nobs' which stores the values of \n",
    "# variables n_con and n_treat in list format. \n",
    "nobs = [n_con, n_treat] \n",
    "\n",
    "# Use the imported libraries to calculate the statistical values. \n",
    "z_stat, pval = proportions_ztest(successes, nobs=nobs)\n",
    "(lower_con, lower_treat), (upper_con, upper_treat) = proportion_confint(successes,\n",
    "                                                                        nobs=nobs,\n",
    "                                                                        alpha=0.05)\n",
    "\n",
    "# Print the outputs (with lead-in text). The .3f indicates the number of decimal places.\n",
    "print(f\"Z test stat: {z_stat:.3f}\")\n",
    "print(f\"P-value: {pval:.3f}\")\n",
    "print(f\"Confidence Interval of 95% for control group: [{lower_con:.3f}, {upper_con:.3f}]\")\n",
    "print(f\"Confidence Interval of 95% for treatment group: [{lower_treat:.3f}, {upper_treat:.3f}]\")"
   ]
  },
  {
   "cell_type": "markdown",
   "id": "e4a3bc1f",
   "metadata": {},
   "source": [
    "The change to the homepage slightly decreased the click through to the login page.\n",
    "\n",
    "The p-value is smaller than the Alpha value of 0.05, meaning we reject the 𝐻0"
   ]
  }
 ],
 "metadata": {
  "kernelspec": {
   "display_name": "Python 3 (ipykernel)",
   "language": "python",
   "name": "python3"
  },
  "language_info": {
   "codemirror_mode": {
    "name": "ipython",
    "version": 3
   },
   "file_extension": ".py",
   "mimetype": "text/x-python",
   "name": "python",
   "nbconvert_exporter": "python",
   "pygments_lexer": "ipython3",
   "version": "3.9.13"
  }
 },
 "nbformat": 4,
 "nbformat_minor": 5
}
