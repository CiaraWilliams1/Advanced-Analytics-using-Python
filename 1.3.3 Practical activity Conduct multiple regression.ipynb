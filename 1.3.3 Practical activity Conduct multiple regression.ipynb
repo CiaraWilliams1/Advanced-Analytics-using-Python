{
 "cells": [
  {
   "cell_type": "code",
   "execution_count": 44,
   "id": "5394dbf5",
   "metadata": {},
   "outputs": [],
   "source": [
    "# Import all the necessary packages.\n",
    "import numpy as np\n",
    "import pandas as pd\n",
    "import statsmodels.api as sm\n",
    "import statsmodels.stats.api as sms\n",
    "import sklearn\n",
    "import matplotlib.pyplot as plt\n",
    "\n",
    "from sklearn import linear_model\n",
    "from statsmodels.stats.outliers_influence import variance_inflation_factor\n",
    "from sklearn.model_selection import train_test_split\n",
    "from sklearn import metrics\n",
    "from sklearn.linear_model import LinearRegression\n",
    "from statsmodels.formula.api import ols\n",
    "\n",
    "# Note: Indicates situations that aren’t necessarily exceptions.\n",
    "import warnings  \n",
    "warnings.filterwarnings('ignore')  "
   ]
  },
  {
   "cell_type": "code",
   "execution_count": 2,
   "id": "8bab4bd9",
   "metadata": {},
   "outputs": [
    {
     "data": {
      "text/html": [
       "<div>\n",
       "<style scoped>\n",
       "    .dataframe tbody tr th:only-of-type {\n",
       "        vertical-align: middle;\n",
       "    }\n",
       "\n",
       "    .dataframe tbody tr th {\n",
       "        vertical-align: top;\n",
       "    }\n",
       "\n",
       "    .dataframe thead th {\n",
       "        text-align: right;\n",
       "    }\n",
       "</style>\n",
       "<table border=\"1\" class=\"dataframe\">\n",
       "  <thead>\n",
       "    <tr style=\"text-align: right;\">\n",
       "      <th></th>\n",
       "      <th>Sale</th>\n",
       "      <th>por_OS</th>\n",
       "      <th>por_NON</th>\n",
       "      <th>recc</th>\n",
       "      <th>avg_no_it</th>\n",
       "      <th>age</th>\n",
       "      <th>dis</th>\n",
       "      <th>diff_reg</th>\n",
       "      <th>tax</th>\n",
       "      <th>bk</th>\n",
       "      <th>lowstat</th>\n",
       "      <th>Median_s</th>\n",
       "    </tr>\n",
       "  </thead>\n",
       "  <tbody>\n",
       "    <tr>\n",
       "      <th>0</th>\n",
       "      <td>0.63</td>\n",
       "      <td>18.0</td>\n",
       "      <td>2.31</td>\n",
       "      <td>0</td>\n",
       "      <td>6.575</td>\n",
       "      <td>65.2</td>\n",
       "      <td>4.0900</td>\n",
       "      <td>1</td>\n",
       "      <td>296</td>\n",
       "      <td>396.90</td>\n",
       "      <td>4.98</td>\n",
       "      <td>24.0</td>\n",
       "    </tr>\n",
       "    <tr>\n",
       "      <th>1</th>\n",
       "      <td>2.73</td>\n",
       "      <td>0.0</td>\n",
       "      <td>7.07</td>\n",
       "      <td>0</td>\n",
       "      <td>6.421</td>\n",
       "      <td>78.9</td>\n",
       "      <td>4.9671</td>\n",
       "      <td>2</td>\n",
       "      <td>242</td>\n",
       "      <td>396.90</td>\n",
       "      <td>9.14</td>\n",
       "      <td>21.6</td>\n",
       "    </tr>\n",
       "    <tr>\n",
       "      <th>2</th>\n",
       "      <td>2.73</td>\n",
       "      <td>0.0</td>\n",
       "      <td>7.07</td>\n",
       "      <td>0</td>\n",
       "      <td>7.185</td>\n",
       "      <td>61.1</td>\n",
       "      <td>4.9671</td>\n",
       "      <td>2</td>\n",
       "      <td>242</td>\n",
       "      <td>392.83</td>\n",
       "      <td>4.03</td>\n",
       "      <td>34.7</td>\n",
       "    </tr>\n",
       "    <tr>\n",
       "      <th>3</th>\n",
       "      <td>3.24</td>\n",
       "      <td>0.0</td>\n",
       "      <td>2.18</td>\n",
       "      <td>0</td>\n",
       "      <td>6.998</td>\n",
       "      <td>45.8</td>\n",
       "      <td>6.0622</td>\n",
       "      <td>3</td>\n",
       "      <td>222</td>\n",
       "      <td>394.63</td>\n",
       "      <td>2.94</td>\n",
       "      <td>33.4</td>\n",
       "    </tr>\n",
       "    <tr>\n",
       "      <th>4</th>\n",
       "      <td>6.91</td>\n",
       "      <td>0.0</td>\n",
       "      <td>2.18</td>\n",
       "      <td>0</td>\n",
       "      <td>7.147</td>\n",
       "      <td>54.2</td>\n",
       "      <td>6.0622</td>\n",
       "      <td>3</td>\n",
       "      <td>222</td>\n",
       "      <td>396.90</td>\n",
       "      <td>5.33</td>\n",
       "      <td>36.2</td>\n",
       "    </tr>\n",
       "  </tbody>\n",
       "</table>\n",
       "</div>"
      ],
      "text/plain": [
       "   Sale  por_OS  por_NON  recc  avg_no_it   age     dis  diff_reg  tax  \\\n",
       "0  0.63    18.0     2.31     0      6.575  65.2  4.0900         1  296   \n",
       "1  2.73     0.0     7.07     0      6.421  78.9  4.9671         2  242   \n",
       "2  2.73     0.0     7.07     0      7.185  61.1  4.9671         2  242   \n",
       "3  3.24     0.0     2.18     0      6.998  45.8  6.0622         3  222   \n",
       "4  6.91     0.0     2.18     0      7.147  54.2  6.0622         3  222   \n",
       "\n",
       "       bk  lowstat  Median_s  \n",
       "0  396.90     4.98      24.0  \n",
       "1  396.90     9.14      21.6  \n",
       "2  392.83     4.03      34.7  \n",
       "3  394.63     2.94      33.4  \n",
       "4  396.90     5.33      36.2  "
      ]
     },
     "execution_count": 2,
     "metadata": {},
     "output_type": "execute_result"
    }
   ],
   "source": [
    "# Import the salary_data.csv file.\n",
    "data = pd.read_csv('ecommerce_data.csv') \n",
    "\n",
    "# Print the DataFrame.\n",
    "(data.head())"
   ]
  },
  {
   "cell_type": "markdown",
   "id": "4f7a340e",
   "metadata": {},
   "source": [
    "## 3 Define variables"
   ]
  },
  {
   "cell_type": "code",
   "execution_count": 3,
   "id": "1bd889d9",
   "metadata": {},
   "outputs": [
    {
     "data": {
      "text/html": [
       "<div>\n",
       "<style scoped>\n",
       "    .dataframe tbody tr th:only-of-type {\n",
       "        vertical-align: middle;\n",
       "    }\n",
       "\n",
       "    .dataframe tbody tr th {\n",
       "        vertical-align: top;\n",
       "    }\n",
       "\n",
       "    .dataframe thead th {\n",
       "        text-align: right;\n",
       "    }\n",
       "</style>\n",
       "<table border=\"1\" class=\"dataframe\">\n",
       "  <thead>\n",
       "    <tr style=\"text-align: right;\">\n",
       "      <th></th>\n",
       "      <th>avg_no_it</th>\n",
       "      <th>tax</th>\n",
       "      <th>age</th>\n",
       "      <th>Median_s</th>\n",
       "    </tr>\n",
       "  </thead>\n",
       "  <tbody>\n",
       "    <tr>\n",
       "      <th>0</th>\n",
       "      <td>6.575</td>\n",
       "      <td>296</td>\n",
       "      <td>65.2</td>\n",
       "      <td>24.0</td>\n",
       "    </tr>\n",
       "    <tr>\n",
       "      <th>1</th>\n",
       "      <td>6.421</td>\n",
       "      <td>242</td>\n",
       "      <td>78.9</td>\n",
       "      <td>21.6</td>\n",
       "    </tr>\n",
       "    <tr>\n",
       "      <th>2</th>\n",
       "      <td>7.185</td>\n",
       "      <td>242</td>\n",
       "      <td>61.1</td>\n",
       "      <td>34.7</td>\n",
       "    </tr>\n",
       "    <tr>\n",
       "      <th>3</th>\n",
       "      <td>6.998</td>\n",
       "      <td>222</td>\n",
       "      <td>45.8</td>\n",
       "      <td>33.4</td>\n",
       "    </tr>\n",
       "    <tr>\n",
       "      <th>4</th>\n",
       "      <td>7.147</td>\n",
       "      <td>222</td>\n",
       "      <td>54.2</td>\n",
       "      <td>36.2</td>\n",
       "    </tr>\n",
       "  </tbody>\n",
       "</table>\n",
       "</div>"
      ],
      "text/plain": [
       "   avg_no_it  tax   age  Median_s\n",
       "0      6.575  296  65.2      24.0\n",
       "1      6.421  242  78.9      21.6\n",
       "2      7.185  242  61.1      34.7\n",
       "3      6.998  222  45.8      33.4\n",
       "4      7.147  222  54.2      36.2"
      ]
     },
     "execution_count": 3,
     "metadata": {},
     "output_type": "execute_result"
    }
   ],
   "source": [
    "data2 = data[['avg_no_it', 'tax', 'age', 'Median_s']]\n",
    "data2.head()"
   ]
  },
  {
   "cell_type": "markdown",
   "id": "62446a0e",
   "metadata": {},
   "source": [
    "Dependent variable = Median_S"
   ]
  },
  {
   "cell_type": "code",
   "execution_count": 20,
   "id": "a6e7411c",
   "metadata": {},
   "outputs": [],
   "source": [
    "# Define the dependent variable.\n",
    "y = data2['Median_s']  \n",
    "\n",
    "# Define the independent variable.\n",
    "X = data2[['avg_no_it', 'tax']]"
   ]
  },
  {
   "cell_type": "code",
   "execution_count": 21,
   "id": "e73884b5",
   "metadata": {},
   "outputs": [
    {
     "data": {
      "text/plain": [
       "LinearRegression()"
      ]
     },
     "execution_count": 21,
     "metadata": {},
     "output_type": "execute_result"
    }
   ],
   "source": [
    "# Fit the regression model.\n",
    "mlr = linear_model.LinearRegression()\n",
    "mlr.fit(X, y)"
   ]
  },
  {
   "cell_type": "code",
   "execution_count": 22,
   "id": "a409c3c0",
   "metadata": {},
   "outputs": [
    {
     "data": {
      "text/plain": [
       "array([26.63108645, 26.25540212, 32.36181073, 31.18391582, 32.37482535,\n",
       "       26.64407278, 21.89365442, 23.17248345, 18.8484428 , 21.82971297,\n",
       "       24.81098314, 21.86967638, 20.91055461, 21.4534628 , 22.62838696,\n",
       "       20.53430443, 21.34156526, 21.78116273, 17.51307086, 19.67908752,\n",
       "       18.42423654, 21.5813457 , 22.99605031, 20.36645812, 21.25364576,\n",
       "       18.6560243 , 20.36645812, 22.23674558, 25.81746685, 27.24815682,\n",
       "       19.56718998, 22.43656261, 21.46145548, 19.4712778 , 22.62838696,\n",
       "       21.76901102, 21.03368433, 21.10561847, 22.03276951, 27.48776043,\n",
       "       30.91662076, 29.18737937, 24.38377784, 24.71947046, 23.5845097 ,\n",
       "       20.49134199, 21.32258085, 23.27279512, 18.22941315, 19.85192747,\n",
       "       22.57891721, 23.79380478, 26.95890662, 22.85866105, 18.4003434 ,\n",
       "       33.12673155, 24.82726558, 29.19079572, 23.38427535, 21.6418708 ,\n",
       "       20.15523206, 21.95358538, 25.86999928, 28.31575979, 32.12616101,\n",
       "       23.70386238, 19.68354362, 20.28418302, 18.0142615 , 20.34013179,\n",
       "       25.22571135, 21.58104863, 22.41228749, 23.85097015, 22.6019404 ,\n",
       "       22.70584526, 22.64989649, 21.53891377, 22.27424046, 19.41286052,\n",
       "       28.08352642, 27.22031682, 24.68663682, 23.60762482, 25.92045219,\n",
       "       27.84668841, 22.93118933, 23.77841356, 30.4956823 , 31.07115536,\n",
       "       25.78000027, 25.68408809, 25.9798173 , 24.13350789, 24.43722979,\n",
       "       27.34745704, 23.65483823, 38.88888901, 36.89871134, 33.66966805,\n",
       "       26.45233333, 26.88393813, 23.87868991, 21.73665129, 21.97643174,\n",
       "       19.45074441, 19.33085419, 21.65672448, 24.43018493, 22.47197799,\n",
       "       22.20022682, 25.5962535 , 19.186123  , 20.61681298, 21.91162737,\n",
       "       19.30601323, 21.28819822, 20.0493326 , 18.85842307, 17.73145499,\n",
       "       22.70662327, 23.77764258, 23.43395728, 22.59472573, 22.7785574 ,\n",
       "       23.63377431, 20.65250414, 17.34854896, 23.24714785, 16.9009588 ,\n",
       "       23.46295025, 22.4079163 , 22.77557965, 18.37960487, 17.86008057,\n",
       "       22.47985043, 19.33872664, 23.43097952, 18.65934871, 21.00919705,\n",
       "       21.19302872, 11.96148169, 15.56912344, 16.08864773, 11.57278273,\n",
       "       21.37980283, 17.36747676, 11.7566144 , 13.83471157, 17.11970363,\n",
       "       21.31586138, 15.57711612, 12.443985  , 18.01488395, 21.37181015,\n",
       "       21.55564182, 14.52208217, 27.87785282, 20.86827122, 24.41702177,\n",
       "       22.3389246 , 32.24185688, 34.74356616, 39.32337262, 19.17382276,\n",
       "       21.14801507, 35.7586367 , 19.35765443, 22.89041962, 23.55381218,\n",
       "       19.34166907, 19.38163247, 18.61442699, 25.36025011, 20.90832656,\n",
       "       26.39929869, 22.19514826, 24.55298928, 28.90900066, 31.49931551,\n",
       "       37.77357043, 24.81743385, 32.89803476, 28.16636736, 20.50138588,\n",
       "       24.88936798, 38.3010874 , 26.67021524, 24.86386924, 29.89126586,\n",
       "       28.0209784 , 26.32652994, 29.83531709, 28.92038138, 27.35381582,\n",
       "       37.67088217, 31.79926036, 30.36057771, 31.6953555 , 28.14945545,\n",
       "       29.42828448, 22.50659407, 34.07999676, 37.98598478, 39.43266012,\n",
       "       21.46499206, 24.94180847, 20.60178246, 22.84772594, 17.09299532,\n",
       "       22.01648707, 17.5725562 , 20.79360682, 25.33344986, 17.63649766,\n",
       "       23.79086235, 21.45685084, 27.48333263, 21.96038977, 25.33330133,\n",
       "       29.46212958, 23.1718893 , 28.88665652, 26.80056667, 39.97250564,\n",
       "       43.64114642, 38.16615964, 31.15657804, 35.33675042, 26.27304969,\n",
       "       21.7092286 , 33.14675571, 40.53998603, 39.8206447 , 27.66377626,\n",
       "       22.54846015, 26.90447152, 32.71515092, 25.81642709, 26.81551227,\n",
       "       29.14138256, 22.73125207, 24.83332728, 25.11307113, 18.24382121,\n",
       "       18.33973339, 22.36005214, 23.30318855, 24.9576736 , 27.23558781,\n",
       "       25.3892784 , 24.99763701, 29.14583867, 39.55230987, 22.59760453,\n",
       "       20.74330244, 34.48016838, 44.15428363, 33.1963174 , 29.27191082,\n",
       "       32.15726882, 34.69094883, 41.70852311, 33.14836131, 32.18124686,\n",
       "       19.02529325, 30.64665203, 40.90126229, 34.29131476, 22.55196843,\n",
       "       22.04043681, 25.10962648, 27.49144554, 36.70700722, 28.75889385,\n",
       "       29.52619126, 32.82716869, 29.30239618, 26.55291377, 29.79229803,\n",
       "       37.8489209 , 31.03915634, 36.45020166, 38.95722996, 30.90553711,\n",
       "       25.59263201, 24.7446368 , 23.75327553, 24.60049976, 26.59867012,\n",
       "       29.72467147, 32.01857103, 27.87836206, 23.16122296, 22.21808655,\n",
       "       27.56519042, 26.53413452, 20.46768932, 23.81088651, 29.37379278,\n",
       "       28.01503693, 26.22836141, 25.46905668, 29.36149253, 33.086174  ,\n",
       "       28.13071152, 34.55682738, 29.99300629, 26.98395273, 21.68480495,\n",
       "       13.70011621, 22.88370716, 22.0924317 , 24.03465328, 26.44045039,\n",
       "       19.55075901, 21.22122942, 20.16619548, 24.96180433, 22.81177303,\n",
       "       25.58270835, 25.18307428, 22.50552601, 19.8439631 , 25.49478886,\n",
       "       25.62267176, 24.67154267, 22.84121863, 18.85812599, 22.57472285,\n",
       "       21.06410606, 19.55875169, 22.15637315, 25.70123344, 25.65327735,\n",
       "       23.47127533, 22.12850485, 22.33631456, 23.64711432, 23.05565589,\n",
       "       22.91978031, 32.14425419, 24.35590252, 26.42627577, 27.84897307,\n",
       "       21.26032991, 20.33317887, 25.28849281, 27.36403655, 28.92278627,\n",
       "       25.33407231, 24.84182218, 19.28690859, 29.58018075, 18.73996161,\n",
       "       20.92196363, 17.87011745, 19.33277815, 17.19073953, 17.0708493 ,\n",
       "       19.35675619, 18.18183202, 11.07633824, 14.60111075, 38.39532333,\n",
       "       -3.318481  ,  7.88725835, -0.90469121,  7.94320712, 21.63467039,\n",
       "       24.29623331, 17.90208817, 15.17658381,  7.43167551,  1.29329618,\n",
       "       26.67005969, 21.36291923, 22.52185803, 19.21288792, 17.95803694,\n",
       "       23.9125846 , 20.53168036, 12.46706481, 12.3391819 ,  3.13161291,\n",
       "       10.39696032,  5.40153443,  8.18298757,  7.2238658 , 11.30013332,\n",
       "       13.88176942, 16.58329574,  8.4707241 , 17.7182565 , 15.27249598,\n",
       "       19.94022193, 19.41270496, 14.15352059, 11.80367225, 14.99275213,\n",
       "       16.07176413, 18.91715871, 19.40471228, 10.97243338, 12.4271014 ,\n",
       "       13.64198898,  1.29329618, 13.04253787, 13.114472  , 22.98543355,\n",
       "       14.2334474 , 21.42686068,  5.20971008,  9.42185319,  4.3385078 ,\n",
       "       19.64449272, 22.42594585, 10.61276272, 15.83198368, 22.76163847,\n",
       "       19.46066105, 16.22362507, 13.36224513, 16.99891517, 12.69885257,\n",
       "       15.34443012, 14.87286191, 17.79019063, 17.7182565 , 19.21288792,\n",
       "       18.95712212, 22.83357261, 19.57255859, 19.66047808, 17.83814672,\n",
       "       21.2030656 , 19.86029512, 17.39055656, 15.65614469, 13.19439882,\n",
       "       14.72100097, 19.42069764, 17.92606622, 20.05211947, 15.0087375 ,\n",
       "       19.84430976, 18.90117335, 18.18183202, 17.65431505, 19.50861714,\n",
       "       22.16218737, 21.41087531, 18.54949537, 27.3094742 , 21.99434106,\n",
       "       20.37182673, 15.98384463, 15.66413737, 18.58146609, 16.82307618,\n",
       "       21.77853866, 19.1809172 , 18.70934899, 20.27591455, 17.8461394 ,\n",
       "       14.24943276, 15.79202028, 16.19964703, 15.58421056, 13.88176942,\n",
       "       17.51044678, 18.00599303, 19.66847077, 24.00849678, 11.59586253,\n",
       "       17.47048337, 20.04412679, 10.61276272, 17.65431505, 18.00599303,\n",
       "       18.10989789, 22.17018005, 24.65590397, 14.27341081, 15.14461308,\n",
       "       18.66938559, 17.08683467, 15.41636425, 11.09900776, 10.7793005 ,\n",
       "        8.21364976, 15.32713623, 15.32713623, 18.1889405 , 19.93933773,\n",
       "       17.89321129, 15.65526049, 18.88430379, 20.6826571 , 17.08595047,\n",
       "       20.74659856, 27.13920172, 23.35866341, 30.2003987 , 28.74573068,\n",
       "       22.63932208])"
      ]
     },
     "execution_count": 22,
     "metadata": {},
     "output_type": "execute_result"
    }
   ],
   "source": [
    "# Call the predictions for X (array).\n",
    "mlr.predict(X)"
   ]
  },
  {
   "cell_type": "code",
   "execution_count": 23,
   "id": "f8641360",
   "metadata": {},
   "outputs": [
    {
     "name": "stdout",
     "output_type": "stream",
     "text": [
      "R-squared:  0.5605639377690896\n",
      "Intercept:  -21.23309336056217\n",
      "Coefficients:\n"
     ]
    },
    {
     "data": {
      "text/plain": [
       "[('avg_no_it', 7.992681419323308), ('tax', -0.015836826081673555)]"
      ]
     },
     "execution_count": 23,
     "metadata": {},
     "output_type": "execute_result"
    }
   ],
   "source": [
    "# Print the R-squared value.\n",
    "print(\"R-squared: \", mlr.score(X,y))  \n",
    "\n",
    "# Print the intercept.\n",
    "print(\"Intercept: \", mlr.intercept_) \n",
    "\n",
    "# Print the coefficients.\n",
    "print(\"Coefficients:\")  \n",
    "\n",
    "# Map a similar index of multiple containers (to be used as a single entity).\n",
    "list(zip(X, mlr.coef_))  "
   ]
  },
  {
   "cell_type": "code",
   "execution_count": 24,
   "id": "615a2c0a",
   "metadata": {},
   "outputs": [
    {
     "data": {
      "text/html": [
       "<div>\n",
       "<style scoped>\n",
       "    .dataframe tbody tr th:only-of-type {\n",
       "        vertical-align: middle;\n",
       "    }\n",
       "\n",
       "    .dataframe tbody tr th {\n",
       "        vertical-align: top;\n",
       "    }\n",
       "\n",
       "    .dataframe thead th {\n",
       "        text-align: right;\n",
       "    }\n",
       "</style>\n",
       "<table border=\"1\" class=\"dataframe\">\n",
       "  <thead>\n",
       "    <tr style=\"text-align: right;\">\n",
       "      <th></th>\n",
       "      <th>avg_no_it</th>\n",
       "      <th>tax</th>\n",
       "      <th>age</th>\n",
       "      <th>Median_s</th>\n",
       "    </tr>\n",
       "  </thead>\n",
       "  <tbody>\n",
       "    <tr>\n",
       "      <th>count</th>\n",
       "      <td>506.000000</td>\n",
       "      <td>506.000000</td>\n",
       "      <td>506.000000</td>\n",
       "      <td>506.000000</td>\n",
       "    </tr>\n",
       "    <tr>\n",
       "      <th>mean</th>\n",
       "      <td>6.284634</td>\n",
       "      <td>408.237154</td>\n",
       "      <td>68.574901</td>\n",
       "      <td>22.532806</td>\n",
       "    </tr>\n",
       "    <tr>\n",
       "      <th>std</th>\n",
       "      <td>0.702617</td>\n",
       "      <td>168.537116</td>\n",
       "      <td>28.148861</td>\n",
       "      <td>9.197104</td>\n",
       "    </tr>\n",
       "    <tr>\n",
       "      <th>min</th>\n",
       "      <td>3.561000</td>\n",
       "      <td>187.000000</td>\n",
       "      <td>2.900000</td>\n",
       "      <td>5.000000</td>\n",
       "    </tr>\n",
       "    <tr>\n",
       "      <th>25%</th>\n",
       "      <td>5.885500</td>\n",
       "      <td>279.000000</td>\n",
       "      <td>45.025000</td>\n",
       "      <td>17.025000</td>\n",
       "    </tr>\n",
       "    <tr>\n",
       "      <th>50%</th>\n",
       "      <td>6.208500</td>\n",
       "      <td>330.000000</td>\n",
       "      <td>77.500000</td>\n",
       "      <td>21.200000</td>\n",
       "    </tr>\n",
       "    <tr>\n",
       "      <th>75%</th>\n",
       "      <td>6.623500</td>\n",
       "      <td>666.000000</td>\n",
       "      <td>94.075000</td>\n",
       "      <td>25.000000</td>\n",
       "    </tr>\n",
       "    <tr>\n",
       "      <th>max</th>\n",
       "      <td>8.780000</td>\n",
       "      <td>711.000000</td>\n",
       "      <td>100.000000</td>\n",
       "      <td>50.000000</td>\n",
       "    </tr>\n",
       "  </tbody>\n",
       "</table>\n",
       "</div>"
      ],
      "text/plain": [
       "        avg_no_it         tax         age    Median_s\n",
       "count  506.000000  506.000000  506.000000  506.000000\n",
       "mean     6.284634  408.237154   68.574901   22.532806\n",
       "std      0.702617  168.537116   28.148861    9.197104\n",
       "min      3.561000  187.000000    2.900000    5.000000\n",
       "25%      5.885500  279.000000   45.025000   17.025000\n",
       "50%      6.208500  330.000000   77.500000   21.200000\n",
       "75%      6.623500  666.000000   94.075000   25.000000\n",
       "max      8.780000  711.000000  100.000000   50.000000"
      ]
     },
     "execution_count": 24,
     "metadata": {},
     "output_type": "execute_result"
    }
   ],
   "source": [
    "data2.describe()"
   ]
  },
  {
   "cell_type": "markdown",
   "id": "8423776e",
   "metadata": {},
   "source": [
    "## 5. make predictions"
   ]
  },
  {
   "cell_type": "code",
   "execution_count": 25,
   "id": "25adda60",
   "metadata": {},
   "outputs": [
    {
     "name": "stdout",
     "output_type": "stream",
     "text": [
      "Predicted Value: \n",
      " [34.60481879]\n"
     ]
    }
   ],
   "source": [
    "# Create 'New_Distance' and define it as 15.2.\n",
    "New_avg_no_it = 7.0 \n",
    "\n",
    "# Create 'New_Distance' and define it as 15.2.\n",
    "New_tax = 7.0 \n",
    "\n",
    "# Print the predicted value. \n",
    "print (\"Predicted Value: \\n\", mlr.predict([[New_avg_no_it, New_tax]]))  "
   ]
  },
  {
   "cell_type": "markdown",
   "id": "b636e448",
   "metadata": {},
   "source": [
    "## Train and test the MLR"
   ]
  },
  {
   "cell_type": "code",
   "execution_count": 26,
   "id": "3b5f4807",
   "metadata": {},
   "outputs": [],
   "source": [
    "# Split the data in 'train' (80%) and 'test' (20%) sets.\n",
    "X_train, X_test, Y_train, Y_test = sklearn.model_selection.train_test_split(X, y,\n",
    "                                                                            test_size = 0.20,\n",
    "                                                                            random_state = 42)"
   ]
  },
  {
   "cell_type": "code",
   "execution_count": 27,
   "id": "35dc1fa4",
   "metadata": {},
   "outputs": [
    {
     "name": "stdout",
     "output_type": "stream",
     "text": [
      "                            OLS Regression Results                            \n",
      "==============================================================================\n",
      "Dep. Variable:               Median_s   R-squared:                       0.578\n",
      "Model:                            OLS   Adj. R-squared:                  0.576\n",
      "Method:                 Least Squares   F-statistic:                     275.1\n",
      "Date:                Sat, 03 Jun 2023   Prob (F-statistic):           6.00e-76\n",
      "Time:                        18:10:12   Log-Likelihood:                -1300.6\n",
      "No. Observations:                 404   AIC:                             2607.\n",
      "Df Residuals:                     401   BIC:                             2619.\n",
      "Df Model:                           2                                         \n",
      "Covariance Type:            nonrobust                                         \n",
      "==============================================================================\n",
      "                 coef    std err          t      P>|t|      [0.025      0.975]\n",
      "------------------------------------------------------------------------------\n",
      "const        -23.2468      3.125     -7.438      0.000     -29.391     -17.103\n",
      "avg_no_it      8.3043      0.444     18.686      0.000       7.431       9.178\n",
      "tax           -0.0159      0.002     -8.356      0.000      -0.020      -0.012\n",
      "==============================================================================\n",
      "Omnibus:                      208.036   Durbin-Watson:                   2.121\n",
      "Prob(Omnibus):                  0.000   Jarque-Bera (JB):             2035.775\n",
      "Skew:                           1.969   Prob(JB):                         0.00\n",
      "Kurtosis:                      13.268   Cond. No.                     4.56e+03\n",
      "==============================================================================\n",
      "\n",
      "Notes:\n",
      "[1] Standard Errors assume that the covariance matrix of the errors is correctly specified.\n",
      "[2] The condition number is large, 4.56e+03. This might indicate that there are\n",
      "strong multicollinearity or other numerical problems.\n"
     ]
    }
   ],
   "source": [
    "# Training the model using the 'statsmodel' OLS library.\n",
    "# Fit the model with the added constant.\n",
    "model = sm.OLS(Y_train, sm.add_constant(X_train)).fit()\n",
    "\n",
    "# Set the predicted response vector.\n",
    "Y_pred = model.predict(sm.add_constant(X_test)) \n",
    "\n",
    "# Call a summary of the model.\n",
    "print_model = model.summary()\n",
    "\n",
    "# Print the summary.\n",
    "print(print_model)  "
   ]
  },
  {
   "cell_type": "code",
   "execution_count": 28,
   "id": "7411cdda",
   "metadata": {},
   "outputs": [
    {
     "name": "stdout",
     "output_type": "stream",
     "text": [
      "0.577871370129925\n"
     ]
    }
   ],
   "source": [
    "print(mlr.score(X_train, Y_train))"
   ]
  },
  {
   "cell_type": "markdown",
   "id": "36b7d2d5",
   "metadata": {},
   "source": [
    "## Run a regression test"
   ]
  },
  {
   "cell_type": "code",
   "execution_count": 30,
   "id": "34982e8b",
   "metadata": {},
   "outputs": [
    {
     "data": {
      "text/plain": [
       "LinearRegression()"
      ]
     },
     "execution_count": 30,
     "metadata": {},
     "output_type": "execute_result"
    }
   ],
   "source": [
    "# Specify the model.\n",
    "mlr = LinearRegression()  \n",
    "\n",
    "# Fit the model. We can only fit the model with the training data set.\n",
    "mlr.fit(X_train, Y_train)  \n"
   ]
  },
  {
   "cell_type": "code",
   "execution_count": 40,
   "id": "f84bf53b",
   "metadata": {},
   "outputs": [
    {
     "name": "stdout",
     "output_type": "stream",
     "text": [
      "Prediction for test set: [25.34068391 28.84665445 15.16523225 22.28317838 18.48624604 22.58581768\n",
      " 21.0450819  21.0955331  17.92155281 20.60411364 21.79627197 21.68148737\n",
      "  3.72117897 22.195515   19.60392283 24.15809126 22.5935717   6.71903567\n",
      " 38.1067165  17.55616307 25.03651525 26.55466429 19.32835117 27.17520438\n",
      " 16.06969119 11.26149444 19.22257124 22.06540459 21.85515612 18.6692089\n",
      " 18.33184443 25.56641898 26.92342722 10.72171415 16.04477826 17.77308642\n",
      " 32.58285169 21.93976077 22.71880459 23.77795457 15.31426677 30.10969603\n",
      " 39.91859664 17.73766088 25.76120942 13.63652772 19.22869942 25.20629627\n",
      " 17.40668545 26.66106955 21.72300893 31.19303715 22.89090109 26.97654765\n",
      " 34.60077812 18.61081072 17.83850969 29.84469056 25.89334589 18.06682824\n",
      " 28.40423186 33.36800226 26.29566909 17.19414294 24.87100073 16.73969981\n",
      " 19.93119636 24.63181224 27.52476089 15.82056183 21.1078109  22.24809946\n",
      " 14.80743574 20.75213693 21.43151828 11.47740655 21.87769997 38.41551614\n",
      " 20.54571546 10.44007862 20.15421573 12.83931375 20.55511676  8.01450837\n",
      " 21.95025193 27.74061941 21.84118816 25.47507155 24.05052111 23.42074051\n",
      " 22.05217628 10.24006404 22.35778855 20.15118916 -4.2343521  22.73978691\n",
      " 17.81359675  4.626349   19.84815324 21.47579842 22.78753313 22.64394786]\n"
     ]
    }
   ],
   "source": [
    "# Call the predictions for X in the train set.\n",
    "y_pred_mlr = mlr.predict(X_test)  \n",
    "\n",
    "# Print the predictions.\n",
    "print(\"Prediction for test set: {}\".format(y_pred_mlr))"
   ]
  },
  {
   "cell_type": "code",
   "execution_count": 37,
   "id": "e9b6645e",
   "metadata": {},
   "outputs": [
    {
     "name": "stdout",
     "output_type": "stream",
     "text": [
      "0.464835937616622\n"
     ]
    }
   ],
   "source": [
    "print(mlr.score(X_test, Y_test))"
   ]
  },
  {
   "cell_type": "markdown",
   "id": "a946dc02",
   "metadata": {},
   "source": [
    "## Check for multicollinearity"
   ]
  },
  {
   "cell_type": "code",
   "execution_count": 39,
   "id": "3740a448",
   "metadata": {},
   "outputs": [
    {
     "name": "stdout",
     "output_type": "stream",
     "text": [
      "   VIF Factor   features\n",
      "0       107.0      const\n",
      "1         1.1  avg_no_it\n",
      "2         1.1        tax\n"
     ]
    }
   ],
   "source": [
    "# Check multicollinearity.\n",
    "x_temp = sm.add_constant(X_train)\n",
    "\n",
    "# Create an empty DataFrame. \n",
    "vif = pd.DataFrame()\n",
    "\n",
    "# Calculate the VIF for each value.\n",
    "vif['VIF Factor'] = [variance_inflation_factor(x_temp.values,\n",
    "                                               i) for i in range(x_temp.values.shape[1])]\n",
    "\n",
    "# Create the feature columns.\n",
    "vif['features'] = x_temp.columns\n",
    "\n",
    "# Print the values to one decimal points.\n",
    "print(vif.round(1))"
   ]
  },
  {
   "cell_type": "markdown",
   "id": "d3d602e1",
   "metadata": {},
   "source": [
    "## Understanding the variance inflation value\n",
    "the weaker the correlation between the IVs, the smaller the VIF will be. The best case scenario for the VIF will have a value of 1.0. The closer to 1.0, the happier we are, and the lower the risk of multicollinearity"
   ]
  },
  {
   "cell_type": "code",
   "execution_count": 45,
   "id": "04b4d4b1",
   "metadata": {},
   "outputs": [],
   "source": [
    "# Determine heteroscedasticity.\n",
    "model = sms.het_breuschpagan(model.resid, model.model.exog) "
   ]
  },
  {
   "cell_type": "code",
   "execution_count": 46,
   "id": "bc48d835",
   "metadata": {},
   "outputs": [
    {
     "name": "stdout",
     "output_type": "stream",
     "text": [
      "{'LM stat': 24.21765359428799, 'LM Test p-value': 5.510656487586983e-06, 'F-stat': 12.785321886624978, 'F-test p-value': 4.142460297790512e-06}\n"
     ]
    }
   ],
   "source": [
    "terms = ['LM stat', 'LM Test p-value', 'F-stat', 'F-test p-value']\n",
    "print(dict(zip(terms, model)))"
   ]
  },
  {
   "cell_type": "markdown",
   "id": "6d49f4e3",
   "metadata": {},
   "source": [
    "We need the p-value to determine homoscedasticity / heteroscedasticity. If the calculated p-value is greater than 0.05, we fail to reject the H0 (null hypothesis), and assume that homoscedasticity is present. Since the LM-test p-value is 5.51..., we assume homoscedasticity."
   ]
  },
  {
   "cell_type": "code",
   "execution_count": 48,
   "id": "e05da752",
   "metadata": {},
   "outputs": [
    {
     "name": "stdout",
     "output_type": "stream",
     "text": [
      "Mean Absolute Error (Final): 3.8350138001428684\n",
      "Mean Square Error (Final): 39.24560530602035\n"
     ]
    }
   ],
   "source": [
    "# Call the metrics.mean_absolute_error function.  \n",
    "print('Mean Absolute Error (Final):', metrics.mean_absolute_error(Y_test, Y_pred))  \n",
    "\n",
    "# Call the metrics.mean_squared_error function.\n",
    "print('Mean Square Error (Final):', metrics.mean_squared_error(Y_test, Y_pred))  "
   ]
  },
  {
   "cell_type": "markdown",
   "id": "1b81ec4c",
   "metadata": {},
   "source": [
    "Mean aboslute error - average difference between actual values and predicted values. average prediction errors. The closer the MAE to 0, the better. \n",
    "Mean square error - an alternative to the MAE, a compliment. Average square of the differences between original values and predicted values. Squaring means all values become positive."
   ]
  }
 ],
 "metadata": {
  "kernelspec": {
   "display_name": "Python 3 (ipykernel)",
   "language": "python",
   "name": "python3"
  },
  "language_info": {
   "codemirror_mode": {
    "name": "ipython",
    "version": 3
   },
   "file_extension": ".py",
   "mimetype": "text/x-python",
   "name": "python",
   "nbconvert_exporter": "python",
   "pygments_lexer": "ipython3",
   "version": "3.9.13"
  }
 },
 "nbformat": 4,
 "nbformat_minor": 5
}
