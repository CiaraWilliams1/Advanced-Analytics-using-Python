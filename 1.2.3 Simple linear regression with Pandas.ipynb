{
 "cells": [
  {
   "cell_type": "code",
   "execution_count": 1,
   "id": "20027278",
   "metadata": {},
   "outputs": [],
   "source": [
    "# Import the necessary libraries.\n",
    "# Create the linear regression.\n",
    "import numpy as np\n",
    "import pandas as pd\n",
    "\n",
    "# Visualise the linear regression.\n",
    "import matplotlib.pyplot as plt\n",
    "import seaborn as sns"
   ]
  },
  {
   "cell_type": "code",
   "execution_count": 2,
   "id": "84035846",
   "metadata": {},
   "outputs": [
    {
     "data": {
      "text/html": [
       "<div>\n",
       "<style scoped>\n",
       "    .dataframe tbody tr th:only-of-type {\n",
       "        vertical-align: middle;\n",
       "    }\n",
       "\n",
       "    .dataframe tbody tr th {\n",
       "        vertical-align: top;\n",
       "    }\n",
       "\n",
       "    .dataframe thead th {\n",
       "        text-align: right;\n",
       "    }\n",
       "</style>\n",
       "<table border=\"1\" class=\"dataframe\">\n",
       "  <thead>\n",
       "    <tr style=\"text-align: right;\">\n",
       "      <th></th>\n",
       "      <th>Engine size</th>\n",
       "      <th>Selling price</th>\n",
       "    </tr>\n",
       "  </thead>\n",
       "  <tbody>\n",
       "    <tr>\n",
       "      <th>0</th>\n",
       "      <td>0.9</td>\n",
       "      <td>20000</td>\n",
       "    </tr>\n",
       "    <tr>\n",
       "      <th>1</th>\n",
       "      <td>1.0</td>\n",
       "      <td>22000</td>\n",
       "    </tr>\n",
       "    <tr>\n",
       "      <th>2</th>\n",
       "      <td>1.1</td>\n",
       "      <td>23500</td>\n",
       "    </tr>\n",
       "    <tr>\n",
       "      <th>3</th>\n",
       "      <td>1.2</td>\n",
       "      <td>26000</td>\n",
       "    </tr>\n",
       "    <tr>\n",
       "      <th>4</th>\n",
       "      <td>1.4</td>\n",
       "      <td>25000</td>\n",
       "    </tr>\n",
       "    <tr>\n",
       "      <th>5</th>\n",
       "      <td>1.6</td>\n",
       "      <td>28250</td>\n",
       "    </tr>\n",
       "    <tr>\n",
       "      <th>6</th>\n",
       "      <td>1.8</td>\n",
       "      <td>29300</td>\n",
       "    </tr>\n",
       "    <tr>\n",
       "      <th>7</th>\n",
       "      <td>2.0</td>\n",
       "      <td>33000</td>\n",
       "    </tr>\n",
       "    <tr>\n",
       "      <th>8</th>\n",
       "      <td>2.2</td>\n",
       "      <td>34255</td>\n",
       "    </tr>\n",
       "    <tr>\n",
       "      <th>9</th>\n",
       "      <td>2.5</td>\n",
       "      <td>45000</td>\n",
       "    </tr>\n",
       "  </tbody>\n",
       "</table>\n",
       "</div>"
      ],
      "text/plain": [
       "   Engine size  Selling price\n",
       "0          0.9          20000\n",
       "1          1.0          22000\n",
       "2          1.1          23500\n",
       "3          1.2          26000\n",
       "4          1.4          25000\n",
       "5          1.6          28250\n",
       "6          1.8          29300\n",
       "7          2.0          33000\n",
       "8          2.2          34255\n",
       "9          2.5          45000"
      ]
     },
     "execution_count": 2,
     "metadata": {},
     "output_type": "execute_result"
    }
   ],
   "source": [
    "# Create a DataFrame to store the data.\n",
    "# Pass the key value as a list.\n",
    "data = {'Engine size': [0.9, 1.0, 1.1, 1.2, 1.4,\n",
    "                        1.6, 1.8, 2, 2.2, 2.5],\n",
    "        'Selling price': [20000, 22000, 23500, 26000,\n",
    "                          25000, 28250, 29300, 33000,\n",
    "                          34255, 45000]}\n",
    "\n",
    "# Create a DataFrame.  \n",
    "df = pd.DataFrame(data)  \n",
    "  \n",
    "# Print the DataFrame.  \n",
    "df"
   ]
  },
  {
   "cell_type": "code",
   "execution_count": 5,
   "id": "e542c556",
   "metadata": {},
   "outputs": [
    {
     "data": {
      "text/html": [
       "<div>\n",
       "<style scoped>\n",
       "    .dataframe tbody tr th:only-of-type {\n",
       "        vertical-align: middle;\n",
       "    }\n",
       "\n",
       "    .dataframe tbody tr th {\n",
       "        vertical-align: top;\n",
       "    }\n",
       "\n",
       "    .dataframe thead th {\n",
       "        text-align: right;\n",
       "    }\n",
       "</style>\n",
       "<table border=\"1\" class=\"dataframe\">\n",
       "  <thead>\n",
       "    <tr style=\"text-align: right;\">\n",
       "      <th></th>\n",
       "      <th>Engine size</th>\n",
       "      <th>Selling price</th>\n",
       "    </tr>\n",
       "  </thead>\n",
       "  <tbody>\n",
       "    <tr>\n",
       "      <th>Engine size</th>\n",
       "      <td>1.000000</td>\n",
       "      <td>0.957063</td>\n",
       "    </tr>\n",
       "    <tr>\n",
       "      <th>Selling price</th>\n",
       "      <td>0.957063</td>\n",
       "      <td>1.000000</td>\n",
       "    </tr>\n",
       "  </tbody>\n",
       "</table>\n",
       "</div>"
      ],
      "text/plain": [
       "               Engine size  Selling price\n",
       "Engine size       1.000000       0.957063\n",
       "Selling price     0.957063       1.000000"
      ]
     },
     "execution_count": 5,
     "metadata": {},
     "output_type": "execute_result"
    }
   ],
   "source": [
    "# Apply Pandas correlation method.\n",
    "df.corr()"
   ]
  },
  {
   "cell_type": "code",
   "execution_count": 6,
   "id": "4d3a3a63",
   "metadata": {},
   "outputs": [
    {
     "data": {
      "text/plain": [
       "(0.0, 2.5)"
      ]
     },
     "execution_count": 6,
     "metadata": {},
     "output_type": "execute_result"
    },
    {
     "data": {
      "image/png": "[encoded data removed]",
      "text/plain": [
       "<Figure size 640x480 with 1 Axes>"
      ]
     },
     "metadata": {},
     "output_type": "display_data"
    }
   ],
   "source": [
    "# Start with a visualisation BEFORE running linear regression.\n",
    "sns.scatterplot(data=df,\n",
    "               x='Engine size',\n",
    "               y='Selling price')\n",
    "\n",
    "# Set axis values.\n",
    "plt.ylim(0, 45000)\n",
    "plt.xlim(0, 2.5)"
   ]
  },
  {
   "cell_type": "code",
   "execution_count": 7,
   "id": "94e26d3a",
   "metadata": {},
   "outputs": [
    {
     "data": {
      "text/plain": [
       "array([12909.48891394,  8362.60240511])"
      ]
     },
     "execution_count": 7,
     "metadata": {},
     "output_type": "execute_result"
    }
   ],
   "source": [
    "# Fit the linear model.\n",
    "# Polyfit() good to use for simple linear regression (only one variable).\n",
    "# See whether we can predict the selling price based on the engine size.\n",
    "reg = np.polyfit(df['Engine size'],\n",
    "                df['Selling price'],\n",
    "                # Degree = 1, degree of polynomium, for SLR always 1.\n",
    "                deg = 1)\n",
    "\n",
    "# View the output.\n",
    "reg\n",
    "\n",
    "# the output indicates the slope and Y-intercept, respectively"
   ]
  },
  {
   "cell_type": "code",
   "execution_count": 9,
   "id": "874e1015",
   "metadata": {},
   "outputs": [
    {
     "data": {
      "text/plain": [
       "[<matplotlib.lines.Line2D at 0x1c2ea7fd6d0>]"
      ]
     },
     "execution_count": 9,
     "metadata": {},
     "output_type": "execute_result"
    },
    {
     "data": {
      "image/png": "[encoded data removed]",
      "text/plain": [
       "<Figure size 640x480 with 1 Axes>"
      ]
     },
     "metadata": {},
     "output_type": "display_data"
    }
   ],
   "source": [
    "# Add a trendline to visualise the linear regression.\n",
    "# Use the NumPy polyval method, and specify the regression and the independent variable.\n",
    "trend = np.polyval(reg, df['Engine size'])\n",
    "\n",
    "# View the previous scatterplot.\n",
    "sns.scatterplot(data=df,\n",
    "               x='Engine size',\n",
    "               y='Selling price')\n",
    "\n",
    "# Set the axis values.\n",
    "plt.ylim(0, 45000)\n",
    "plt.xlim(0, 2.5)\n",
    "\n",
    "# Add the trendline.\n",
    "plt.plot(df['Engine size'],\n",
    "         trend,\n",
    "         color='red')"
   ]
  },
  {
   "cell_type": "code",
   "execution_count": null,
   "id": "a77d7965",
   "metadata": {},
   "outputs": [],
   "source": []
  }
 ],
 "metadata": {
  "kernelspec": {
   "display_name": "Python 3 (ipykernel)",
   "language": "python",
   "name": "python3"
  },
  "language_info": {
   "codemirror_mode": {
    "name": "ipython",
    "version": 3
   },
   "file_extension": ".py",
   "mimetype": "text/x-python",
   "name": "python",
   "nbconvert_exporter": "python",
   "pygments_lexer": "ipython3",
   "version": "3.9.13"
  }
 },
 "nbformat": 4,
 "nbformat_minor": 5
}
